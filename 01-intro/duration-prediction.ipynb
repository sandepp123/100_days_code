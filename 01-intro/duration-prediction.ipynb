{
  "cells": [
    {
      "cell_type": "code",
      "execution_count": 1,
      "id": "b2bd82d7",
      "metadata": {
        "colab": {
          "base_uri": "https://localhost:8080/"
        },
        "id": "b2bd82d7",
        "outputId": "6971d850-1437-4004-cd53-c861fb99de54"
      },
      "outputs": [
        {
          "output_type": "stream",
          "name": "stdout",
          "text": [
            "Python 3.10.11\n"
          ]
        }
      ],
      "source": [
        "!python -V"
      ]
    },
    {
      "cell_type": "code",
      "execution_count": 58,
      "id": "41062d8a",
      "metadata": {
        "id": "41062d8a"
      },
      "outputs": [],
      "source": [
        "import pandas as pd"
      ]
    },
    {
      "cell_type": "code",
      "execution_count": 59,
      "id": "c984c564",
      "metadata": {
        "id": "c984c564"
      },
      "outputs": [],
      "source": [
        "import pickle"
      ]
    },
    {
      "cell_type": "code",
      "execution_count": 60,
      "id": "4add538c",
      "metadata": {
        "id": "4add538c"
      },
      "outputs": [],
      "source": [
        "import seaborn as sns\n",
        "import matplotlib.pyplot as plt"
      ]
    },
    {
      "cell_type": "code",
      "execution_count": 61,
      "id": "8b135c2b",
      "metadata": {
        "id": "8b135c2b"
      },
      "outputs": [],
      "source": [
        "from sklearn.feature_extraction import DictVectorizer\n",
        "from sklearn.linear_model import LinearRegression\n",
        "from sklearn.linear_model import Lasso\n",
        "from sklearn.linear_model import Ridge\n",
        "\n",
        "from sklearn.metrics import mean_squared_error"
      ]
    },
    {
      "cell_type": "code",
      "execution_count": 62,
      "id": "8e013caf",
      "metadata": {
        "id": "8e013caf"
      },
      "outputs": [],
      "source": [
        "df= pd.read_parquet('https://d37ci6vzurychx.cloudfront.net/trip-data/yellow_tripdata_2022-01.parquet')\n",
        "\n",
        "df['duration'] = df.tpep_dropoff_datetime - df.tpep_pickup_datetime\n",
        "df.duration = df.duration.apply(lambda td: td.total_seconds() / 60)\n",
        "\n",
        "df = df[(df.duration >= 1) & (df.duration <= 60)]\n",
        "\n",
        "categorical = ['PULocationID', 'DOLocationID']\n",
        "numerical = ['trip_distance']\n",
        "\n",
        "df[categorical] = df[categorical].astype(str)"
      ]
    },
    {
      "cell_type": "code",
      "source": [],
      "metadata": {
        "id": "rW_-z4S-U_ix"
      },
      "id": "rW_-z4S-U_ix",
      "execution_count": 62,
      "outputs": []
    },
    {
      "cell_type": "code",
      "source": [
        "# sd = [i.total_seconds()//60 for i in df[\"duration\"]]"
      ],
      "metadata": {
        "id": "9t9ZEPexQrY4"
      },
      "id": "9t9ZEPexQrY4",
      "execution_count": 64,
      "outputs": []
    },
    {
      "cell_type": "code",
      "source": [
        "import numpy as np\n",
        "sd = np.std(sd,axis=0)"
      ],
      "metadata": {
        "id": "dPsW82_VVAbu"
      },
      "id": "dPsW82_VVAbu",
      "execution_count": 65,
      "outputs": []
    },
    {
      "cell_type": "code",
      "source": [
        "df[\"duration\"]=sd"
      ],
      "metadata": {
        "id": "4fPYmYz5VIqq"
      },
      "id": "4fPYmYz5VIqq",
      "execution_count": 66,
      "outputs": []
    },
    {
      "cell_type": "code",
      "source": [],
      "metadata": {
        "id": "0n-oU2PnVsxo"
      },
      "id": "0n-oU2PnVsxo",
      "execution_count": 66,
      "outputs": []
    },
    {
      "cell_type": "code",
      "source": [
        "df = df[(df.duration >= 1) & (df.duration <= 60)]"
      ],
      "metadata": {
        "id": "3qlfFbZMVsn7"
      },
      "id": "3qlfFbZMVsn7",
      "execution_count": 67,
      "outputs": []
    },
    {
      "cell_type": "code",
      "source": [
        "df"
      ],
      "metadata": {
        "colab": {
          "base_uri": "https://localhost:8080/",
          "height": 488
        },
        "id": "LPJ0CsC1VsbP",
        "outputId": "e3fcbf4e-0cf4-43fb-8845-3f5cf954676d"
      },
      "id": "LPJ0CsC1VsbP",
      "execution_count": 68,
      "outputs": [
        {
          "output_type": "execute_result",
          "data": {
            "text/plain": [
              "         VendorID tpep_pickup_datetime tpep_dropoff_datetime  passenger_count  \\\n",
              "0               1  2022-01-01 00:35:40   2022-01-01 00:53:29              2.0   \n",
              "1               1  2022-01-01 00:33:43   2022-01-01 00:42:07              1.0   \n",
              "2               2  2022-01-01 00:53:21   2022-01-01 01:02:19              1.0   \n",
              "3               2  2022-01-01 00:25:21   2022-01-01 00:35:23              1.0   \n",
              "4               2  2022-01-01 00:36:48   2022-01-01 01:14:20              1.0   \n",
              "...           ...                  ...                   ...              ...   \n",
              "2463926         2  2022-01-31 23:36:53   2022-01-31 23:42:51              NaN   \n",
              "2463927         2  2022-01-31 23:44:22   2022-01-31 23:55:01              NaN   \n",
              "2463928         2  2022-01-31 23:39:00   2022-01-31 23:50:00              NaN   \n",
              "2463929         2  2022-01-31 23:36:42   2022-01-31 23:48:45              NaN   \n",
              "2463930         2  2022-01-31 23:46:00   2022-02-01 00:13:00              NaN   \n",
              "\n",
              "         trip_distance  RatecodeID store_and_fwd_flag PULocationID  \\\n",
              "0                 3.80         1.0                  N          142   \n",
              "1                 2.10         1.0                  N          236   \n",
              "2                 0.97         1.0                  N          166   \n",
              "3                 1.09         1.0                  N          114   \n",
              "4                 4.30         1.0                  N           68   \n",
              "...                ...         ...                ...          ...   \n",
              "2463926           1.32         NaN               None           90   \n",
              "2463927           4.19         NaN               None          107   \n",
              "2463928           2.10         NaN               None          113   \n",
              "2463929           2.92         NaN               None          148   \n",
              "2463930           8.94         NaN               None          186   \n",
              "\n",
              "        DOLocationID  payment_type  fare_amount  extra  mta_tax  tip_amount  \\\n",
              "0                236             1        14.50    3.0      0.5        3.65   \n",
              "1                 42             1         8.00    0.5      0.5        4.00   \n",
              "2                166             1         7.50    0.5      0.5        1.76   \n",
              "3                 68             2         8.00    0.5      0.5        0.00   \n",
              "4                163             1        23.50    0.5      0.5        3.00   \n",
              "...              ...           ...          ...    ...      ...         ...   \n",
              "2463926          170             0         8.00    0.0      0.5        2.39   \n",
              "2463927           75             0        16.80    0.0      0.5        4.35   \n",
              "2463928          246             0        11.22    0.0      0.5        2.00   \n",
              "2463929          164             0        12.40    0.0      0.5        0.00   \n",
              "2463930          181             0        25.48    0.0      0.5        6.28   \n",
              "\n",
              "         tolls_amount  improvement_surcharge  total_amount  \\\n",
              "0                 0.0                    0.3         21.95   \n",
              "1                 0.0                    0.3         13.30   \n",
              "2                 0.0                    0.3         10.56   \n",
              "3                 0.0                    0.3         11.80   \n",
              "4                 0.0                    0.3         30.30   \n",
              "...               ...                    ...           ...   \n",
              "2463926           0.0                    0.3         13.69   \n",
              "2463927           0.0                    0.3         24.45   \n",
              "2463928           0.0                    0.3         16.52   \n",
              "2463929           0.0                    0.3         15.70   \n",
              "2463930           0.0                    0.3         35.06   \n",
              "\n",
              "         congestion_surcharge  airport_fee   duration  \n",
              "0                         2.5          0.0  46.445605  \n",
              "1                         0.0          0.0  46.445605  \n",
              "2                         0.0          0.0  46.445605  \n",
              "3                         2.5          0.0  46.445605  \n",
              "4                         2.5          0.0  46.445605  \n",
              "...                       ...          ...        ...  \n",
              "2463926                   NaN          NaN  46.445605  \n",
              "2463927                   NaN          NaN  46.445605  \n",
              "2463928                   NaN          NaN  46.445605  \n",
              "2463929                   NaN          NaN  46.445605  \n",
              "2463930                   NaN          NaN  46.445605  \n",
              "\n",
              "[2421440 rows x 20 columns]"
            ],
            "text/html": [
              "\n",
              "  <div id=\"df-ade3fd19-aa35-43d5-9d0a-c4e67435582c\">\n",
              "    <div class=\"colab-df-container\">\n",
              "      <div>\n",
              "<style scoped>\n",
              "    .dataframe tbody tr th:only-of-type {\n",
              "        vertical-align: middle;\n",
              "    }\n",
              "\n",
              "    .dataframe tbody tr th {\n",
              "        vertical-align: top;\n",
              "    }\n",
              "\n",
              "    .dataframe thead th {\n",
              "        text-align: right;\n",
              "    }\n",
              "</style>\n",
              "<table border=\"1\" class=\"dataframe\">\n",
              "  <thead>\n",
              "    <tr style=\"text-align: right;\">\n",
              "      <th></th>\n",
              "      <th>VendorID</th>\n",
              "      <th>tpep_pickup_datetime</th>\n",
              "      <th>tpep_dropoff_datetime</th>\n",
              "      <th>passenger_count</th>\n",
              "      <th>trip_distance</th>\n",
              "      <th>RatecodeID</th>\n",
              "      <th>store_and_fwd_flag</th>\n",
              "      <th>PULocationID</th>\n",
              "      <th>DOLocationID</th>\n",
              "      <th>payment_type</th>\n",
              "      <th>fare_amount</th>\n",
              "      <th>extra</th>\n",
              "      <th>mta_tax</th>\n",
              "      <th>tip_amount</th>\n",
              "      <th>tolls_amount</th>\n",
              "      <th>improvement_surcharge</th>\n",
              "      <th>total_amount</th>\n",
              "      <th>congestion_surcharge</th>\n",
              "      <th>airport_fee</th>\n",
              "      <th>duration</th>\n",
              "    </tr>\n",
              "  </thead>\n",
              "  <tbody>\n",
              "    <tr>\n",
              "      <th>0</th>\n",
              "      <td>1</td>\n",
              "      <td>2022-01-01 00:35:40</td>\n",
              "      <td>2022-01-01 00:53:29</td>\n",
              "      <td>2.0</td>\n",
              "      <td>3.80</td>\n",
              "      <td>1.0</td>\n",
              "      <td>N</td>\n",
              "      <td>142</td>\n",
              "      <td>236</td>\n",
              "      <td>1</td>\n",
              "      <td>14.50</td>\n",
              "      <td>3.0</td>\n",
              "      <td>0.5</td>\n",
              "      <td>3.65</td>\n",
              "      <td>0.0</td>\n",
              "      <td>0.3</td>\n",
              "      <td>21.95</td>\n",
              "      <td>2.5</td>\n",
              "      <td>0.0</td>\n",
              "      <td>46.445605</td>\n",
              "    </tr>\n",
              "    <tr>\n",
              "      <th>1</th>\n",
              "      <td>1</td>\n",
              "      <td>2022-01-01 00:33:43</td>\n",
              "      <td>2022-01-01 00:42:07</td>\n",
              "      <td>1.0</td>\n",
              "      <td>2.10</td>\n",
              "      <td>1.0</td>\n",
              "      <td>N</td>\n",
              "      <td>236</td>\n",
              "      <td>42</td>\n",
              "      <td>1</td>\n",
              "      <td>8.00</td>\n",
              "      <td>0.5</td>\n",
              "      <td>0.5</td>\n",
              "      <td>4.00</td>\n",
              "      <td>0.0</td>\n",
              "      <td>0.3</td>\n",
              "      <td>13.30</td>\n",
              "      <td>0.0</td>\n",
              "      <td>0.0</td>\n",
              "      <td>46.445605</td>\n",
              "    </tr>\n",
              "    <tr>\n",
              "      <th>2</th>\n",
              "      <td>2</td>\n",
              "      <td>2022-01-01 00:53:21</td>\n",
              "      <td>2022-01-01 01:02:19</td>\n",
              "      <td>1.0</td>\n",
              "      <td>0.97</td>\n",
              "      <td>1.0</td>\n",
              "      <td>N</td>\n",
              "      <td>166</td>\n",
              "      <td>166</td>\n",
              "      <td>1</td>\n",
              "      <td>7.50</td>\n",
              "      <td>0.5</td>\n",
              "      <td>0.5</td>\n",
              "      <td>1.76</td>\n",
              "      <td>0.0</td>\n",
              "      <td>0.3</td>\n",
              "      <td>10.56</td>\n",
              "      <td>0.0</td>\n",
              "      <td>0.0</td>\n",
              "      <td>46.445605</td>\n",
              "    </tr>\n",
              "    <tr>\n",
              "      <th>3</th>\n",
              "      <td>2</td>\n",
              "      <td>2022-01-01 00:25:21</td>\n",
              "      <td>2022-01-01 00:35:23</td>\n",
              "      <td>1.0</td>\n",
              "      <td>1.09</td>\n",
              "      <td>1.0</td>\n",
              "      <td>N</td>\n",
              "      <td>114</td>\n",
              "      <td>68</td>\n",
              "      <td>2</td>\n",
              "      <td>8.00</td>\n",
              "      <td>0.5</td>\n",
              "      <td>0.5</td>\n",
              "      <td>0.00</td>\n",
              "      <td>0.0</td>\n",
              "      <td>0.3</td>\n",
              "      <td>11.80</td>\n",
              "      <td>2.5</td>\n",
              "      <td>0.0</td>\n",
              "      <td>46.445605</td>\n",
              "    </tr>\n",
              "    <tr>\n",
              "      <th>4</th>\n",
              "      <td>2</td>\n",
              "      <td>2022-01-01 00:36:48</td>\n",
              "      <td>2022-01-01 01:14:20</td>\n",
              "      <td>1.0</td>\n",
              "      <td>4.30</td>\n",
              "      <td>1.0</td>\n",
              "      <td>N</td>\n",
              "      <td>68</td>\n",
              "      <td>163</td>\n",
              "      <td>1</td>\n",
              "      <td>23.50</td>\n",
              "      <td>0.5</td>\n",
              "      <td>0.5</td>\n",
              "      <td>3.00</td>\n",
              "      <td>0.0</td>\n",
              "      <td>0.3</td>\n",
              "      <td>30.30</td>\n",
              "      <td>2.5</td>\n",
              "      <td>0.0</td>\n",
              "      <td>46.445605</td>\n",
              "    </tr>\n",
              "    <tr>\n",
              "      <th>...</th>\n",
              "      <td>...</td>\n",
              "      <td>...</td>\n",
              "      <td>...</td>\n",
              "      <td>...</td>\n",
              "      <td>...</td>\n",
              "      <td>...</td>\n",
              "      <td>...</td>\n",
              "      <td>...</td>\n",
              "      <td>...</td>\n",
              "      <td>...</td>\n",
              "      <td>...</td>\n",
              "      <td>...</td>\n",
              "      <td>...</td>\n",
              "      <td>...</td>\n",
              "      <td>...</td>\n",
              "      <td>...</td>\n",
              "      <td>...</td>\n",
              "      <td>...</td>\n",
              "      <td>...</td>\n",
              "      <td>...</td>\n",
              "    </tr>\n",
              "    <tr>\n",
              "      <th>2463926</th>\n",
              "      <td>2</td>\n",
              "      <td>2022-01-31 23:36:53</td>\n",
              "      <td>2022-01-31 23:42:51</td>\n",
              "      <td>NaN</td>\n",
              "      <td>1.32</td>\n",
              "      <td>NaN</td>\n",
              "      <td>None</td>\n",
              "      <td>90</td>\n",
              "      <td>170</td>\n",
              "      <td>0</td>\n",
              "      <td>8.00</td>\n",
              "      <td>0.0</td>\n",
              "      <td>0.5</td>\n",
              "      <td>2.39</td>\n",
              "      <td>0.0</td>\n",
              "      <td>0.3</td>\n",
              "      <td>13.69</td>\n",
              "      <td>NaN</td>\n",
              "      <td>NaN</td>\n",
              "      <td>46.445605</td>\n",
              "    </tr>\n",
              "    <tr>\n",
              "      <th>2463927</th>\n",
              "      <td>2</td>\n",
              "      <td>2022-01-31 23:44:22</td>\n",
              "      <td>2022-01-31 23:55:01</td>\n",
              "      <td>NaN</td>\n",
              "      <td>4.19</td>\n",
              "      <td>NaN</td>\n",
              "      <td>None</td>\n",
              "      <td>107</td>\n",
              "      <td>75</td>\n",
              "      <td>0</td>\n",
              "      <td>16.80</td>\n",
              "      <td>0.0</td>\n",
              "      <td>0.5</td>\n",
              "      <td>4.35</td>\n",
              "      <td>0.0</td>\n",
              "      <td>0.3</td>\n",
              "      <td>24.45</td>\n",
              "      <td>NaN</td>\n",
              "      <td>NaN</td>\n",
              "      <td>46.445605</td>\n",
              "    </tr>\n",
              "    <tr>\n",
              "      <th>2463928</th>\n",
              "      <td>2</td>\n",
              "      <td>2022-01-31 23:39:00</td>\n",
              "      <td>2022-01-31 23:50:00</td>\n",
              "      <td>NaN</td>\n",
              "      <td>2.10</td>\n",
              "      <td>NaN</td>\n",
              "      <td>None</td>\n",
              "      <td>113</td>\n",
              "      <td>246</td>\n",
              "      <td>0</td>\n",
              "      <td>11.22</td>\n",
              "      <td>0.0</td>\n",
              "      <td>0.5</td>\n",
              "      <td>2.00</td>\n",
              "      <td>0.0</td>\n",
              "      <td>0.3</td>\n",
              "      <td>16.52</td>\n",
              "      <td>NaN</td>\n",
              "      <td>NaN</td>\n",
              "      <td>46.445605</td>\n",
              "    </tr>\n",
              "    <tr>\n",
              "      <th>2463929</th>\n",
              "      <td>2</td>\n",
              "      <td>2022-01-31 23:36:42</td>\n",
              "      <td>2022-01-31 23:48:45</td>\n",
              "      <td>NaN</td>\n",
              "      <td>2.92</td>\n",
              "      <td>NaN</td>\n",
              "      <td>None</td>\n",
              "      <td>148</td>\n",
              "      <td>164</td>\n",
              "      <td>0</td>\n",
              "      <td>12.40</td>\n",
              "      <td>0.0</td>\n",
              "      <td>0.5</td>\n",
              "      <td>0.00</td>\n",
              "      <td>0.0</td>\n",
              "      <td>0.3</td>\n",
              "      <td>15.70</td>\n",
              "      <td>NaN</td>\n",
              "      <td>NaN</td>\n",
              "      <td>46.445605</td>\n",
              "    </tr>\n",
              "    <tr>\n",
              "      <th>2463930</th>\n",
              "      <td>2</td>\n",
              "      <td>2022-01-31 23:46:00</td>\n",
              "      <td>2022-02-01 00:13:00</td>\n",
              "      <td>NaN</td>\n",
              "      <td>8.94</td>\n",
              "      <td>NaN</td>\n",
              "      <td>None</td>\n",
              "      <td>186</td>\n",
              "      <td>181</td>\n",
              "      <td>0</td>\n",
              "      <td>25.48</td>\n",
              "      <td>0.0</td>\n",
              "      <td>0.5</td>\n",
              "      <td>6.28</td>\n",
              "      <td>0.0</td>\n",
              "      <td>0.3</td>\n",
              "      <td>35.06</td>\n",
              "      <td>NaN</td>\n",
              "      <td>NaN</td>\n",
              "      <td>46.445605</td>\n",
              "    </tr>\n",
              "  </tbody>\n",
              "</table>\n",
              "<p>2421440 rows × 20 columns</p>\n",
              "</div>\n",
              "      <button class=\"colab-df-convert\" onclick=\"convertToInteractive('df-ade3fd19-aa35-43d5-9d0a-c4e67435582c')\"\n",
              "              title=\"Convert this dataframe to an interactive table.\"\n",
              "              style=\"display:none;\">\n",
              "        \n",
              "  <svg xmlns=\"http://www.w3.org/2000/svg\" height=\"24px\"viewBox=\"0 0 24 24\"\n",
              "       width=\"24px\">\n",
              "    <path d=\"M0 0h24v24H0V0z\" fill=\"none\"/>\n",
              "    <path d=\"M18.56 5.44l.94 2.06.94-2.06 2.06-.94-2.06-.94-.94-2.06-.94 2.06-2.06.94zm-11 1L8.5 8.5l.94-2.06 2.06-.94-2.06-.94L8.5 2.5l-.94 2.06-2.06.94zm10 10l.94 2.06.94-2.06 2.06-.94-2.06-.94-.94-2.06-.94 2.06-2.06.94z\"/><path d=\"M17.41 7.96l-1.37-1.37c-.4-.4-.92-.59-1.43-.59-.52 0-1.04.2-1.43.59L10.3 9.45l-7.72 7.72c-.78.78-.78 2.05 0 2.83L4 21.41c.39.39.9.59 1.41.59.51 0 1.02-.2 1.41-.59l7.78-7.78 2.81-2.81c.8-.78.8-2.07 0-2.86zM5.41 20L4 18.59l7.72-7.72 1.47 1.35L5.41 20z\"/>\n",
              "  </svg>\n",
              "      </button>\n",
              "      \n",
              "  <style>\n",
              "    .colab-df-container {\n",
              "      display:flex;\n",
              "      flex-wrap:wrap;\n",
              "      gap: 12px;\n",
              "    }\n",
              "\n",
              "    .colab-df-convert {\n",
              "      background-color: #E8F0FE;\n",
              "      border: none;\n",
              "      border-radius: 50%;\n",
              "      cursor: pointer;\n",
              "      display: none;\n",
              "      fill: #1967D2;\n",
              "      height: 32px;\n",
              "      padding: 0 0 0 0;\n",
              "      width: 32px;\n",
              "    }\n",
              "\n",
              "    .colab-df-convert:hover {\n",
              "      background-color: #E2EBFA;\n",
              "      box-shadow: 0px 1px 2px rgba(60, 64, 67, 0.3), 0px 1px 3px 1px rgba(60, 64, 67, 0.15);\n",
              "      fill: #174EA6;\n",
              "    }\n",
              "\n",
              "    [theme=dark] .colab-df-convert {\n",
              "      background-color: #3B4455;\n",
              "      fill: #D2E3FC;\n",
              "    }\n",
              "\n",
              "    [theme=dark] .colab-df-convert:hover {\n",
              "      background-color: #434B5C;\n",
              "      box-shadow: 0px 1px 3px 1px rgba(0, 0, 0, 0.15);\n",
              "      filter: drop-shadow(0px 1px 2px rgba(0, 0, 0, 0.3));\n",
              "      fill: #FFFFFF;\n",
              "    }\n",
              "  </style>\n",
              "\n",
              "      <script>\n",
              "        const buttonEl =\n",
              "          document.querySelector('#df-ade3fd19-aa35-43d5-9d0a-c4e67435582c button.colab-df-convert');\n",
              "        buttonEl.style.display =\n",
              "          google.colab.kernel.accessAllowed ? 'block' : 'none';\n",
              "\n",
              "        async function convertToInteractive(key) {\n",
              "          const element = document.querySelector('#df-ade3fd19-aa35-43d5-9d0a-c4e67435582c');\n",
              "          const dataTable =\n",
              "            await google.colab.kernel.invokeFunction('convertToInteractive',\n",
              "                                                     [key], {});\n",
              "          if (!dataTable) return;\n",
              "\n",
              "          const docLinkHtml = 'Like what you see? Visit the ' +\n",
              "            '<a target=\"_blank\" href=https://colab.research.google.com/notebooks/data_table.ipynb>data table notebook</a>'\n",
              "            + ' to learn more about interactive tables.';\n",
              "          element.innerHTML = '';\n",
              "          dataTable['output_type'] = 'display_data';\n",
              "          await google.colab.output.renderOutput(dataTable, element);\n",
              "          const docLink = document.createElement('div');\n",
              "          docLink.innerHTML = docLinkHtml;\n",
              "          element.appendChild(docLink);\n",
              "        }\n",
              "      </script>\n",
              "    </div>\n",
              "  </div>\n",
              "  "
            ]
          },
          "metadata": {},
          "execution_count": 68
        }
      ]
    },
    {
      "cell_type": "code",
      "execution_count": 69,
      "id": "116ff0cc",
      "metadata": {
        "colab": {
          "base_uri": "https://localhost:8080/"
        },
        "id": "116ff0cc",
        "outputId": "e95a7264-04bf-423c-ee24-21da6d042c4f"
      },
      "outputs": [
        {
          "output_type": "execute_result",
          "data": {
            "text/plain": [
              "2.8421709430404007e-13"
            ]
          },
          "metadata": {},
          "execution_count": 69
        }
      ],
      "source": [
        "train_dicts = df[categorical + numerical].to_dict(orient='records')\n",
        "\n",
        "dv = DictVectorizer()\n",
        "X_train = dv.fit_transform(train_dicts)\n",
        "\n",
        "target = 'duration'\n",
        "y_train = df[target].values\n",
        "\n",
        "lr = LinearRegression()\n",
        "lr.fit(X_train, y_train)\n",
        "\n",
        "y_pred = lr.predict(X_train)\n",
        "\n",
        "mean_squared_error(y_train, y_pred, squared=False)"
      ]
    },
    {
      "cell_type": "code",
      "source": [
        "X_train.shape"
      ],
      "metadata": {
        "colab": {
          "base_uri": "https://localhost:8080/"
        },
        "id": "E0XcBFB_u3MC",
        "outputId": "47ade0e9-3472-4399-852c-6e1e3abf096a"
      },
      "id": "E0XcBFB_u3MC",
      "execution_count": 70,
      "outputs": [
        {
          "output_type": "execute_result",
          "data": {
            "text/plain": [
              "(2421440, 516)"
            ]
          },
          "metadata": {},
          "execution_count": 70
        }
      ]
    },
    {
      "cell_type": "code",
      "execution_count": 74,
      "id": "f9e6479e",
      "metadata": {
        "id": "f9e6479e"
      },
      "outputs": [],
      "source": [
        "def read_dataframe(filename):\n",
        "    df = pd.read_parquet(filename)\n",
        "\n",
        "    df['duration'] = df.lpep_dropoff_datetime - df.lpep_pickup_datetime\n",
        "    df.duration = df.duration.apply(lambda td: td.total_seconds() / 60)\n",
        "\n",
        "    df = df[(df.duration >= 1) & (df.duration <= 60)]\n",
        "\n",
        "    categorical = ['PULocationID', 'DOLocationID']\n",
        "    df[categorical] = df[categorical].astype(str)\n",
        "    \n",
        "    return df"
      ]
    },
    {
      "cell_type": "code",
      "execution_count": 75,
      "id": "8029eba0",
      "metadata": {
        "id": "8029eba0"
      },
      "outputs": [],
      "source": [
        "df_train = read_dataframe('https://d37ci6vzurychx.cloudfront.net/trip-data/green_tripdata_2022-01.parquet')\n",
        "df_val = read_dataframe('https://d37ci6vzurychx.cloudfront.net/trip-data/green_tripdata_2022-02.parquet')"
      ]
    },
    {
      "cell_type": "code",
      "execution_count": 76,
      "id": "f6f2f0eb",
      "metadata": {
        "colab": {
          "base_uri": "https://localhost:8080/"
        },
        "id": "f6f2f0eb",
        "outputId": "4ffa7a72-ebd4-43a3-90c4-66c9ad9f5655"
      },
      "outputs": [
        {
          "output_type": "execute_result",
          "data": {
            "text/plain": [
              "(59603, 66097)"
            ]
          },
          "metadata": {},
          "execution_count": 76
        }
      ],
      "source": [
        "len(df_train), len(df_val)"
      ]
    },
    {
      "cell_type": "code",
      "execution_count": 77,
      "id": "951d51ef",
      "metadata": {
        "id": "951d51ef"
      },
      "outputs": [],
      "source": [
        "df_train['PU_DO'] = df_train['PULocationID'] + '_' + df_train['DOLocationID']\n",
        "df_val['PU_DO'] = df_val['PULocationID'] + '_' + df_val['DOLocationID']"
      ]
    },
    {
      "cell_type": "code",
      "execution_count": 78,
      "id": "c5cbfc25",
      "metadata": {
        "id": "c5cbfc25"
      },
      "outputs": [],
      "source": [
        "categorical = ['PU_DO'] #'PULocationID', 'DOLocationID']\n",
        "numerical = ['trip_distance']\n",
        "\n",
        "dv = DictVectorizer()\n",
        "\n",
        "train_dicts = df_train[categorical + numerical].to_dict(orient='records')\n",
        "X_train = dv.fit_transform(train_dicts)\n",
        "\n",
        "val_dicts = df_val[categorical + numerical].to_dict(orient='records')\n",
        "X_val = dv.transform(val_dicts)"
      ]
    },
    {
      "cell_type": "code",
      "execution_count": 79,
      "id": "1e9fb68b",
      "metadata": {
        "id": "1e9fb68b"
      },
      "outputs": [],
      "source": [
        "target = 'duration'\n",
        "y_train = df_train[target].values\n",
        "y_val = df_val[target].values"
      ]
    },
    {
      "cell_type": "code",
      "execution_count": 80,
      "id": "429e2394",
      "metadata": {
        "colab": {
          "base_uri": "https://localhost:8080/"
        },
        "id": "429e2394",
        "outputId": "337af997-bfdd-4138-877b-d0bec91c147f"
      },
      "outputs": [
        {
          "output_type": "execute_result",
          "data": {
            "text/plain": [
              "6.928931234628599"
            ]
          },
          "metadata": {},
          "execution_count": 80
        }
      ],
      "source": [
        "lr = LinearRegression()\n",
        "lr.fit(X_train, y_train)\n",
        "\n",
        "y_pred = lr.predict(X_val)\n",
        "\n",
        "mean_squared_error(y_val, y_pred, squared=False)"
      ]
    },
    {
      "cell_type": "code",
      "execution_count": null,
      "id": "22bf6f8b",
      "metadata": {
        "id": "22bf6f8b"
      },
      "outputs": [],
      "source": [
        "with open('models/lin_reg.bin', 'wb') as f_out:\n",
        "    pickle.dump((dv, lr), f_out)"
      ]
    },
    {
      "cell_type": "code",
      "execution_count": 85,
      "id": "a4999b94",
      "metadata": {
        "colab": {
          "base_uri": "https://localhost:8080/"
        },
        "id": "a4999b94",
        "outputId": "5280ac0d-2c64-4669-dc23-d375d15a8827"
      },
      "outputs": [
        {
          "output_type": "execute_result",
          "data": {
            "text/plain": [
              "7.475775217343405"
            ]
          },
          "metadata": {},
          "execution_count": 85
        }
      ],
      "source": [
        "lr = Lasso(0.001)\n",
        "lr.fit(X_train, y_train)\n",
        "\n",
        "y_pred = lr.predict(X_val)\n",
        "\n",
        "mean_squared_error(y_val, y_pred, squared=False)"
      ]
    },
    {
      "cell_type": "code",
      "execution_count": null,
      "id": "47b0eb9b",
      "metadata": {
        "id": "47b0eb9b"
      },
      "outputs": [],
      "source": []
    }
  ],
  "metadata": {
    "kernelspec": {
      "display_name": "Python 3 (ipykernel)",
      "language": "python",
      "name": "python3"
    },
    "language_info": {
      "codemirror_mode": {
        "name": "ipython",
        "version": 3
      },
      "file_extension": ".py",
      "mimetype": "text/x-python",
      "name": "python",
      "nbconvert_exporter": "python",
      "pygments_lexer": "ipython3",
      "version": "3.9.7"
    },
    "colab": {
      "provenance": []
    }
  },
  "nbformat": 4,
  "nbformat_minor": 5
}